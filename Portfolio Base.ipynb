{
 "cells": [
  {
   "cell_type": "code",
   "execution_count": 11,
   "metadata": {},
   "outputs": [
    {
     "name": "stdout",
     "output_type": "stream",
     "text": [
      "Defaulting to user installation because normal site-packages is not writeable\n",
      "Requirement already satisfied: numpy in c:\\users\\james\\appdata\\roaming\\python\\python312\\site-packages (1.26.1)\n",
      "Note: you may need to restart the kernel to use updated packages.\n"
     ]
    },
    {
     "name": "stderr",
     "output_type": "stream",
     "text": [
      "\n",
      "[notice] A new release of pip is available: 23.2.1 -> 23.3.1\n",
      "[notice] To update, run: python.exe -m pip install --upgrade pip\n"
     ]
    }
   ],
   "source": [
    "%pip install numpy"
   ]
  },
  {
   "cell_type": "code",
   "execution_count": 114,
   "metadata": {},
   "outputs": [],
   "source": [
    "import numpy as np\n",
    "import random"
   ]
  },
  {
   "cell_type": "code",
   "execution_count": 120,
   "metadata": {},
   "outputs": [],
   "source": [
    "\n",
    "#Base class, any child classes should implement evolve and have a value\n",
    "class Asset:\n",
    "    def __init__(self, initialValue):\n",
    "        self.value = initialValue\n",
    "    def evolve(self):\n",
    "        self.value = self.value\n",
    "\n",
    "class Bond(Asset):\n",
    "    #TODO: add conditions to ensure rate is valid\n",
    "    def __init__(self, initialValue, rate):\n",
    "        self.rate = rate\n",
    "        super().__init__(initialValue)\n",
    "    def evolve(self):\n",
    "        self.value = self.value * self.rate\n",
    "\n",
    "class BinomialStock(Asset):\n",
    "    def __init__(self, initialValue, u, d, p):\n",
    "        self.u = u\n",
    "        self.d = d\n",
    "        self.p = p\n",
    "        super().__init__(initialValue)\n",
    "    def evolve(self):\n",
    "        probDraw = random.random()\n",
    "        if probDraw < self.p:\n",
    "            self.value += self.u\n",
    "        else:\n",
    "            self.value += self.d\n",
    "class Market:\n",
    "    def __init__(self, assets):\n",
    "        self.assets = assets\n",
    "        self.time = 0\n",
    "        self.history = []\n",
    "        self.history.append(self.returnAssetValues())\n",
    "\n",
    "    def returnAssetValues(self):\n",
    "        values = []\n",
    "        for asset in self.assets:\n",
    "            values.append(asset.value)\n",
    "        return values\n",
    "\n",
    "    def evolve(self):\n",
    "        for asset in self.assets:\n",
    "            asset.evolve()\n",
    "        self.history.append(self.returnAssetValues())\n",
    "        self.time += 1\n",
    "\n",
    "class Portfolio:\n",
    "\n",
    "    tradingStrategy = None\n",
    "    market = None\n",
    "\n",
    "    currentAllocation = []\n",
    "\n",
    "    def __init__(self, tradingStrategy, market, initalAllocation):\n",
    "        self.tradingStrategy = tradingStrategy\n",
    "        self.market = market\n",
    "        self.currentAllocation = initalAllocation\n",
    "    def stepTime(self):\n",
    "        self.evolve()\n",
    "        self.rebalance()\n",
    "\n",
    "    def rebalance(self):\n",
    "        newAllocation = self.tradingStrategy(self.market.history)\n",
    "        currentAssetValues = self.market.history[len(self.market.history)-1]\n",
    "\n",
    "        if (np.dot(self.currentAllocation, currentAssetValues) != np.dot(newAllocation, currentAssetValues)):\n",
    "            raise ValueError(\"Value after rebalancing portofolio changed\")\n",
    "        else:\n",
    "            self.currentAllocation = newAllocation\n",
    "\n",
    "    def evolve(self):\n",
    "        self.market.evolve()\n",
    "\n",
    "    def returnCurrentValue(self):\n",
    "        currentAssetValues = self.market.history[len(self.market.history)-1]\n",
    "\n",
    "        return np.dot(currentAssetValues, self.currentAllocation)\n",
    "        \n",
    "\n",
    "    "
   ]
  },
  {
   "cell_type": "code",
   "execution_count": 121,
   "metadata": {},
   "outputs": [
    {
     "name": "stdout",
     "output_type": "stream",
     "text": [
      "21.0\n",
      "[8.223159109219415, 38, 47, 44, 41]\n",
      "[1. 1. 1. 1. 1.]\n",
      "178.2231591092194\n"
     ]
    }
   ],
   "source": [
    "#Define the assets\n",
    "assets = [Bond(5, 1.01)]\n",
    "for i in range(4):\n",
    "    assets.append(BinomialStock(4, 2,-1, 0.65))\n",
    "\n",
    "market = Market(assets)\n",
    "\n",
    "startingAllocation = np.ones(5)\n",
    "\n",
    "def exampleTradingStrategy(history):\n",
    "    #Return a constant uniform allocation \n",
    "    return np.ones(5)\n",
    "\n",
    "examplePortfolio = Portfolio(exampleTradingStrategy, market, startingAllocation)\n",
    "#Initial value of the portfolio\n",
    "print(examplePortfolio.returnCurrentValue())\n",
    "for i in range(50):\n",
    "    examplePortfolio.stepTime()\n",
    "#Current market value of the assets\n",
    "print(examplePortfolio.market.returnAssetValues())\n",
    "#Current allocation of assets within the portfolio\n",
    "print(examplePortfolio.currentAllocation)\n",
    "#Current total value of the portfolio\n",
    "print(examplePortfolio.returnCurrentValue())"
   ]
  },
  {
   "cell_type": "markdown",
   "metadata": {},
   "source": [
    "The core model"
   ]
  }
 ],
 "metadata": {
  "kernelspec": {
   "display_name": "Python 3",
   "language": "python",
   "name": "python3"
  },
  "language_info": {
   "codemirror_mode": {
    "name": "ipython",
    "version": 3
   },
   "file_extension": ".py",
   "mimetype": "text/x-python",
   "name": "python",
   "nbconvert_exporter": "python",
   "pygments_lexer": "ipython3",
   "version": "3.12.0"
  }
 },
 "nbformat": 4,
 "nbformat_minor": 2
}
