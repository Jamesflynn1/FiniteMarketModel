{
 "cells": [
  {
   "cell_type": "code",
   "execution_count": 5,
   "metadata": {},
   "outputs": [
    {
     "name": "stdout",
     "output_type": "stream",
     "text": [
      "Defaulting to user installation because normal site-packages is not writeable\n",
      "Requirement already satisfied: matplotlib in c:\\users\\james\\appdata\\roaming\\python\\python312\\site-packages (3.8.1)\n",
      "Requirement already satisfied: contourpy>=1.0.1 in c:\\users\\james\\appdata\\roaming\\python\\python312\\site-packages (from matplotlib) (1.2.0)\n",
      "Requirement already satisfied: cycler>=0.10 in c:\\users\\james\\appdata\\roaming\\python\\python312\\site-packages (from matplotlib) (0.12.1)\n",
      "Requirement already satisfied: fonttools>=4.22.0 in c:\\users\\james\\appdata\\roaming\\python\\python312\\site-packages (from matplotlib) (4.44.0)\n",
      "Requirement already satisfied: kiwisolver>=1.3.1 in c:\\users\\james\\appdata\\roaming\\python\\python312\\site-packages (from matplotlib) (1.4.5)\n",
      "Requirement already satisfied: numpy<2,>=1.21 in c:\\users\\james\\appdata\\roaming\\python\\python312\\site-packages (from matplotlib) (1.26.1)\n",
      "Requirement already satisfied: packaging>=20.0 in c:\\users\\james\\appdata\\roaming\\python\\python312\\site-packages (from matplotlib) (23.2)\n",
      "Requirement already satisfied: pillow>=8 in c:\\users\\james\\appdata\\roaming\\python\\python312\\site-packages (from matplotlib) (10.1.0)\n",
      "Requirement already satisfied: pyparsing>=2.3.1 in c:\\users\\james\\appdata\\roaming\\python\\python312\\site-packages (from matplotlib) (3.1.1)\n",
      "Requirement already satisfied: python-dateutil>=2.7 in c:\\users\\james\\appdata\\roaming\\python\\python312\\site-packages (from matplotlib) (2.8.2)\n",
      "Requirement already satisfied: six>=1.5 in c:\\users\\james\\appdata\\roaming\\python\\python312\\site-packages (from python-dateutil>=2.7->matplotlib) (1.16.0)\n",
      "Note: you may need to restart the kernel to use updated packages.\n",
      "Defaulting to user installation because normal site-packages is not writeable\n",
      "Collecting nbformat\n",
      "  Downloading nbformat-5.9.2-py3-none-any.whl.metadata (3.4 kB)\n",
      "Collecting fastjsonschema (from nbformat)\n",
      "  Downloading fastjsonschema-2.19.0-py3-none-any.whl.metadata (2.0 kB)\n",
      "Collecting jsonschema>=2.6 (from nbformat)\n",
      "  Downloading jsonschema-4.20.0-py3-none-any.whl.metadata (8.1 kB)\n",
      "Requirement already satisfied: jupyter-core in c:\\users\\james\\appdata\\roaming\\python\\python312\\site-packages (from nbformat) (5.5.0)\n",
      "Requirement already satisfied: traitlets>=5.1 in c:\\users\\james\\appdata\\roaming\\python\\python312\\site-packages (from nbformat) (5.13.0)\n",
      "Collecting attrs>=22.2.0 (from jsonschema>=2.6->nbformat)\n",
      "  Using cached attrs-23.1.0-py3-none-any.whl (61 kB)\n",
      "Collecting jsonschema-specifications>=2023.03.6 (from jsonschema>=2.6->nbformat)\n",
      "  Downloading jsonschema_specifications-2023.11.2-py3-none-any.whl.metadata (3.0 kB)\n",
      "Collecting referencing>=0.28.4 (from jsonschema>=2.6->nbformat)\n",
      "  Downloading referencing-0.32.0-py3-none-any.whl.metadata (2.7 kB)\n",
      "Collecting rpds-py>=0.7.1 (from jsonschema>=2.6->nbformat)\n",
      "  Downloading rpds_py-0.13.2-cp312-none-win_amd64.whl.metadata (4.0 kB)\n",
      "Requirement already satisfied: platformdirs>=2.5 in c:\\users\\james\\appdata\\roaming\\python\\python312\\site-packages (from jupyter-core->nbformat) (3.11.0)\n",
      "Requirement already satisfied: pywin32>=300 in c:\\users\\james\\appdata\\roaming\\python\\python312\\site-packages (from jupyter-core->nbformat) (306)\n",
      "Downloading nbformat-5.9.2-py3-none-any.whl (77 kB)\n",
      "   ---------------------------------------- 0.0/77.6 kB ? eta -:--:--\n",
      "   ---------------------------------------- 77.6/77.6 kB 2.1 MB/s eta 0:00:00\n",
      "Downloading jsonschema-4.20.0-py3-none-any.whl (84 kB)\n",
      "   ---------------------------------------- 0.0/84.7 kB ? eta -:--:--\n",
      "   ---------------------------------------- 84.7/84.7 kB 4.7 MB/s eta 0:00:00\n",
      "Downloading fastjsonschema-2.19.0-py3-none-any.whl (23 kB)\n",
      "Downloading jsonschema_specifications-2023.11.2-py3-none-any.whl (17 kB)\n",
      "Downloading referencing-0.32.0-py3-none-any.whl (26 kB)\n",
      "Downloading rpds_py-0.13.2-cp312-none-win_amd64.whl (189 kB)\n",
      "   ---------------------------------------- 0.0/189.3 kB ? eta -:--:--\n",
      "   ---------------------------------------- 189.3/189.3 kB 5.8 MB/s eta 0:00:00\n",
      "Installing collected packages: fastjsonschema, rpds-py, attrs, referencing, jsonschema-specifications, jsonschema, nbformat\n",
      "Successfully installed attrs-23.1.0 fastjsonschema-2.19.0 jsonschema-4.20.0 jsonschema-specifications-2023.11.2 nbformat-5.9.2 referencing-0.32.0 rpds-py-0.13.2\n",
      "Note: you may need to restart the kernel to use updated packages.\n"
     ]
    }
   ],
   "source": [
    "%pip install matplotlib\n",
    "%pip install nbformat"
   ]
  },
  {
   "cell_type": "code",
   "execution_count": 6,
   "metadata": {},
   "outputs": [
    {
     "name": "stdout",
     "output_type": "stream",
     "text": [
      "Defaulting to user installation because normal site-packages is not writeable\n",
      "Requirement already satisfied: numpy in c:\\users\\james\\appdata\\roaming\\python\\python312\\site-packages (1.26.1)\n",
      "Note: you may need to restart the kernel to use updated packages.\n"
     ]
    }
   ],
   "source": [
    "%pip install nbformat\n",
    "%run PortfolioBase.ipynb"
   ]
  },
  {
   "cell_type": "code",
   "execution_count": 7,
   "metadata": {},
   "outputs": [
    {
     "name": "stdout",
     "output_type": "stream",
     "text": [
      "21.0\n",
      "[8.223159109219415, 50, 41, 53, 56]\n",
      "[1. 1. 1. 1. 1.]\n",
      "208.2231591092194\n",
      "0.018287801320028732\n",
      "0.21755837846410467\n",
      "1.0017121986799713\n"
     ]
    }
   ],
   "source": [
    "#Define the assets\n",
    "assets = [Bond(\"Risk Free\",5, 1.01)]\n",
    "for i in range(4):\n",
    "    assets.append(BinomialStock(\"Stock \"+str(i),4, 2,-1, 0.65))\n",
    "\n",
    "market = Market(assets)\n",
    "\n",
    "startingAllocation = np.ones(5)\n",
    "\n",
    "def exampleTradingStrategy(history):\n",
    "    #Return a constant uniform allocation \n",
    "    return np.ones(5)\n",
    "\n",
    "examplePortfolio = Portfolio(exampleTradingStrategy, market, startingAllocation)\n",
    "#Initial value of the portfolio\n",
    "print(examplePortfolio.returnCurrentValue())\n",
    "for i in range(50):\n",
    "    examplePortfolio.stepTime()\n",
    "#Current market value of the assets\n",
    "print(examplePortfolio.market.returnAssetValues())\n",
    "#Current allocation of assets within the portfolio\n",
    "print(examplePortfolio.currentAllocation)\n",
    "#Current total value of the portfolio\n",
    "print(examplePortfolio.returnCurrentValue())\n",
    "\n",
    "print(examplePortfolio.market.calculateHistoricBeta(\"Risk Free\"))\n",
    "print(examplePortfolio.market.calculateHistoricBeta(\"Stock 1\"))\n",
    "\n",
    "betaSum = 0\n",
    "for i in range(0, 4):\n",
    "    betaSum += examplePortfolio.market.calculateHistoricBeta(f\"Stock {i}\")\n",
    "print(betaSum)"
   ]
  },
  {
   "cell_type": "code",
   "execution_count": null,
   "metadata": {},
   "outputs": [],
   "source": [
    "#Variance of end value\n",
    "examplePortfolio.reset()\n",
    "finalValues = []\n",
    "for i in range(50):\n",
    "    for iterations in range(1000):\n",
    "        examplePortfolio.stepTime()\n",
    "    finalValues.append(examplePortfolio.returnCurrentValue())\n",
    "    examplePortfolio.reset()\n",
    "print(\"Value of the portfolio\")\n",
    "print(f\"Mean after 1000 steps :{np.mean(finalValues)}\")\n",
    "print(f\"Variance after 1000 steps :{np.var(finalValues)}\")\n",
    "print(f\"Median after 1000 steps :{np.median(finalValues)}\")"
   ]
  },
  {
   "cell_type": "code",
   "execution_count": null,
   "metadata": {},
   "outputs": [],
   "source": [
    "#Trajectory of the portfolio value\n",
    "import matplotlib.pyplot as plt\n",
    "examplePortfolio.reset()\n",
    "values = []\n",
    "\n",
    "runs = 50\n",
    "iterationsPerRun = 100\n",
    "\n",
    "for i in range(runs):\n",
    "    runValues = []\n",
    "    for iteration in range(iterationsPerRun):\n",
    "        examplePortfolio.evolve()\n",
    "        runValues.append(examplePortfolio.returnCurrentValue())\n",
    "    values.append(runValues)\n",
    "    examplePortfolio.reset()\n",
    "\n",
    "for runValues in values:\n",
    "    plt.plot(runValues)\n",
    "\n",
    "plt.xlabel(\"Iterations\")\n",
    "plt.ylabel(\"Portfolio Value\")\n",
    "plt.title(f\"A graph to show the evolution of value of a portfolio over {runs} realisations with {iterationsPerRun} iterations\")"
   ]
  },
  {
   "cell_type": "code",
   "execution_count": null,
   "metadata": {},
   "outputs": [],
   "source": [
    "examplePortfolio.reset()\n",
    "values = []\n",
    "\n",
    "runs = 50\n",
    "iterationsPerRun = 100\n",
    "\n",
    "for i in range(runs):\n",
    "    runValues = []\n",
    "    for iteration in range(iterationsPerRun):\n",
    "        examplePortfolio.evolve()\n",
    "        runValues.append(examplePortfolio.returnCurrentValue())\n",
    "    values.append(runValues)\n",
    "    examplePortfolio.reset()\n",
    "\n",
    "for runValues in values:\n",
    "    plt.plot(runValues)\n",
    "\n",
    "plt.xlabel(\"Iterations\")\n",
    "plt.ylabel(\"Portfolio Value\")\n",
    "plt.title(f\"A graph to show the evolution of value of a portfolio over {runs} realisations with {iterationsPerRun} iterations\")"
   ]
  }
 ],
 "metadata": {
  "kernelspec": {
   "display_name": "Python 3",
   "language": "python",
   "name": "python3"
  },
  "language_info": {
   "codemirror_mode": {
    "name": "ipython",
    "version": 3
   },
   "file_extension": ".py",
   "mimetype": "text/x-python",
   "name": "python",
   "nbconvert_exporter": "python",
   "pygments_lexer": "ipython3",
   "version": "3.12.0"
  }
 },
 "nbformat": 4,
 "nbformat_minor": 2
}
